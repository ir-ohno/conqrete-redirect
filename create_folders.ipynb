{
 "cells": [
  {
   "cell_type": "code",
   "execution_count": 4,
   "id": "ee4e1647-85b7-475f-b1be-adc9d4ab498b",
   "metadata": {},
   "outputs": [],
   "source": [
    "# ライブラリのインポート\n",
    "import shutil"
   ]
  },
  {
   "cell_type": "code",
   "execution_count": 5,
   "id": "a9409e46-94e2-41fc-8e92-505048098fa3",
   "metadata": {},
   "outputs": [],
   "source": [
    "for i in range(3, 101):\n",
    "    dst = f\"{i:05d}\"\n",
    "    shutil.copytree(\"00001\", dst)"
   ]
  }
 ],
 "metadata": {
  "kernelspec": {
   "display_name": "Python 3 (ipykernel)",
   "language": "python",
   "name": "python3"
  },
  "language_info": {
   "codemirror_mode": {
    "name": "ipython",
    "version": 3
   },
   "file_extension": ".py",
   "mimetype": "text/x-python",
   "name": "python",
   "nbconvert_exporter": "python",
   "pygments_lexer": "ipython3",
   "version": "3.8.17"
  }
 },
 "nbformat": 4,
 "nbformat_minor": 5
}
